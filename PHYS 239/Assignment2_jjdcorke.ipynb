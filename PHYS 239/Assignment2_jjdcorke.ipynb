{
 "cells": [
  {
   "cell_type": "markdown",
   "metadata": {},
   "source": [
    "# Assignment 2"
   ]
  },
  {
   "cell_type": "markdown",
   "metadata": {},
   "source": [
    "### This Assignment is due by 11:59 pm EDT February 3. Type your solution in the cells following '# your code is here'. Please, upload your solution to a corresponding Dropbox on LEARN."
   ]
  },
  {
   "cell_type": "markdown",
   "metadata": {},
   "source": [
    "###  Problem 1: Reimann zeta function"
   ]
  },
  {
   "cell_type": "markdown",
   "metadata": {},
   "source": [
    "The Reimann zeta function is\n",
    "$$\n",
    "\\zeta(s) =\\sum_{n=1}^\\infty \\frac{1}{n^s}.\n",
    "$$\n",
    "Write a routine to compute the Reimann zeta function $\\zeta(s)$, using the above sum, that is accurate to $1e-7$ for $s = 2$ and $s = 3$. Print the results.\n",
    "\n",
    "Check by printing the difference between your result and the value calculated using scipy.special.zeta, that your function is this accurate.\n",
    "\n",
    "Explain in a Markdown cell in one or two sentences why it is hard to compute the Reimann zeta function with the series for smaller s (that are still greater than one)."
   ]
  },
  {
   "source": [
    "%%time\n",
    "#importing scipy.special's zeta function\n",
    "from scipy.special import zeta\n",
    "\n",
    "#This function is defined to calculate the zeta function to an accuracy of 1e-7. \n",
    "def zeta_func(s):\n",
    "    #Keeps track of the sum\n",
    "    total = 0\n",
    "    #iterator variable (i.e. index of sumation)\n",
    "    n = 1\n",
    "    #The value we will use to make sure our error is under 1e-7.\n",
    "    #The reason we store this value rather than call it in our while loop's conditional statement is for efficiency resons \n",
    "    #Otherwise we would make a function call for every new term in our sum leading to poor performance\n",
    "    zvalue = zeta(s)\n",
    "\n",
    "    #adds the next term in the sum until the error is less than 1e-7.\n",
    "    while zvalue-total>1e-7:\n",
    "        total += 1/(n**s)\n",
    "        n += 1\n",
    "    \n",
    "    return total\n",
    "\n",
    "#Values for the zeta function using our own function\n",
    "z2 = zeta_func(2)\n",
    "z3 = zeta_func(3)\n",
    "\n",
    "#Values for z using the scipy version\n",
    "zval2 = zeta(2)\n",
    "zval3 = zeta(3)\n",
    "\n",
    "#Error between our zeta function and the scipy version\n",
    "err2 = zval2-z2\n",
    "err3 = zval3-z3\n",
    "\n",
    "print('The Riemann zeta function for s=2 is: ',z2,'\\nwhile the scipy value is: ', zval2, '\\nwith an error of: ', err2,'\\n')\n",
    "print('The Riemann zeta function for s=2 is: ',z3,'\\nwhile the scipy value is: ', zval3, '\\nwith an error of: ', err3,'\\n')\n",
    "\n"
   ],
   "cell_type": "code",
   "metadata": {},
   "execution_count": 18,
   "outputs": [
    {
     "output_type": "stream",
     "name": "stdout",
     "text": [
      "The Riemann zeta function for s=2 is:  1.6449339668482288 \nwhile the scipy value is:  1.6449340668482264 \nwith an error of:  9.999999761589606e-08 \n\nThe Riemann zeta function for s=2 is:  1.2020568031982297 \nwhile the scipy value is:  1.2020569031595942 \nwith an error of:  9.996136451917437e-08 \n\nCPU times: user 4.83 s, sys: 22.1 ms, total: 4.85 s\nWall time: 4.88 s\n"
     ]
    }
   ]
  },
  {
   "source": [],
   "cell_type": "markdown",
   "metadata": {}
  },
  {
   "cell_type": "markdown",
   "metadata": {},
   "source": [
    "\n",
    "In condensed matter physics, the Madelung constant gives the total electric potential felt by an atom in a solid. It depends on the charges of the other atoms nearby and their locations. Consider for instance solid sodium chloride — table salt. The sodium chloride crystal has atoms arranged on a cubic lattice, but with alternating sodium and chlorine atoms, the sodium ones having a single positive charge $+e$ and the chlorine ones a single negative charge $−e$, where $e$ is the charge on the electron. If we label each position on the lattice by three integer coordinates $(i, j, k)$, then the sodium atoms fall at positions where $i + j + k$ is even, and the chlorine atoms at positions where $i + j + k$ is odd.\n",
    "\n",
    "Consider a sodium atom at the origin, $i = j = k = 0$, and let us calculate the Madelung constant. If the spacing of atoms on the lattice is $a$, then the distance from the origin to the atom at position $(i, j,k)$ is\n",
    "\n",
    "$$\n",
    "a\\sqrt{i^2+j^2+k^2},\n",
    "$$\n",
    "\n",
    "and the potential at the origin created by such an atom is \n",
    "\n",
    "$$\n",
    "V(i,j,k) = \\frac{e \\cdot (-1)^{i+j+k}}{4\\pi\\epsilon_0 a \\sqrt{i^2+j^2+k^2}},\n",
    "$$\n",
    "\n",
    "where $\\epsilon_0$ is the permittivity of the vacuum. The total potential felt by the sodium atom is then the sum of this quantity over all other atoms. Let us assume a cubic box around the sodium at the origin, with $L$ atoms in all directions. Then \n",
    "\n",
    "$$\n",
    "V_{total} = \\sum_{i,j,k =-L,\\\\{\\rm not}\\; i=j=k=0}^{L} V(i,j,k) = \\frac{e}{4\\pi\\epsilon_0 a} M.\n",
    "$$\n",
    "\n",
    "$M$ is the Madelung constant. Technically, the Madelung constant is the value of $M$ when \n",
    "$\\rightarrow\\infty$, but one can get a good approximation just by using a large enough value of $L$.\n",
    "\n",
    "Write a program to calculate and print the Madelung constant for sodium chloride. Use as large value of $L$ as you can, while still having your program run in reasonable time, say in a minute or two.  "
   ]
  },
  {
   "source": [
    "\n",
    "We can rearange our equations to isolate M. This gives us the following equation for $M$.\n",
    "\n",
    "$$M = \\sum^L_{i,j,k=-L\\ ;\\ not\\ i=j=k=0} \\frac{1^{i+j+k}}{\\sqrt{i^2+j^2+k^2}}$$\n",
    "\n",
    "We use this to calculate M for a cubic box \n",
    "\n",
    "\n"
   ],
   "cell_type": "markdown",
   "metadata": {}
  },
  {
   "cell_type": "code",
   "execution_count": 33,
   "metadata": {},
   "outputs": [
    {
     "output_type": "stream",
     "name": "stdout",
     "text": [
      "Halfway\n",
      "-1.7450598212343698\n",
      "CPU times: user 1min 52s, sys: 1.62 s, total: 1min 53s\n",
      "Wall time: 1min 54s\n"
     ]
    }
   ],
   "source": [
    "%%time\n",
    "\n",
    "##Importing packages as other names for convenience\n",
    "import scipy.constants as const\n",
    "import math\n",
    "import numpy as np\n",
    "\n",
    "#Approaching this problem in an O.O. way. I define a class called Box to model a cubix box dimensions (2L,2L,2L) i.e length L from the origin to the side of the box.\n",
    "class Box:\n",
    "    #initialize the box, the only thing needed is the length L\n",
    "    def __init__(self, L):\n",
    "        self.L = L\n",
    "    #I create a method madelung() to calculate and return the madelung constant\n",
    "    def madelung(self):\n",
    "        mdlg = 0\n",
    "        for i in np.arange(-self.L,self.L+1):\n",
    "            for j in np.arange(-self.L,self.L+1):\n",
    "                for k in np.arange(-self.L,self.L+1):\n",
    "                    if i==j==k==0:\n",
    "                        print(\"Halfway\")\n",
    "                        continue\n",
    "                    else:\n",
    "                        mdlg += (-1)**(int(i+j+k))/(math.sqrt(i*i+j*j+k*k))\n",
    "        return mdlg\n",
    "   \n",
    "    \n",
    "\n",
    "#For a box with L=230, I see that my program runs in around 1min 45s  and obtains a value of M = -1.7450598212343698\n",
    "#box230 = Box(230)\n",
    "#print(box230.madelung())\n",
    "box230 = Box(230)\n",
    "print(box230.madelung())\n",
    "\n",
    "\n"
   ]
  },
  {
   "cell_type": "markdown",
   "metadata": {},
   "source": [
    "###  Problem 3: OOP - Methods on lists in Python"
   ]
  },
  {
   "cell_type": "markdown",
   "metadata": {},
   "source": [
    "Define the class MyList creating an empty list in the constructor. In the body of the class implemet the following methods:\n",
    "\n",
    "    add(x) -- Appends element x to the list.\n",
    "    prnt() -- prints the list\n",
    "    rem() --  Removes and returns the last element.\n",
    "    top() --  Gets the last element.\n",
    "    empty() -- Returns a Boolean answering whether the list is empty or not.\n",
    "    \n",
    "Add three elements 1,2 and 3, and playing with the methods demonstrate that all your methods work correctly. "
   ]
  },
  {
   "cell_type": "code",
   "execution_count": 23,
   "metadata": {},
   "outputs": [
    {
     "output_type": "stream",
     "name": "stdout",
     "text": [
      "[1, 2, 3]\n[1, 2, 3]\n[1, 2]\n[1, 2]\nFalse\nTrue\n"
     ]
    }
   ],
   "source": [
    "# your code is here\n",
    "#Creat my MyList class\n",
    "class MyList:\n",
    "    #initialize the class with an empty list\n",
    "    def __init__(self):\n",
    "        self.list = []\n",
    "\n",
    "    #add() method to add elements at the end of the list\n",
    "    def add(self,x):\n",
    "        self.list.append(x)\n",
    "        return self\n",
    "    #prnt() method to print the list and __str__ to print the list when we call the print function on a MyList object\n",
    "    def prnt(self):\n",
    "        print(self.list)\n",
    "\n",
    "    def __str__(self):\n",
    "        return \"{0}\".format(self.list)\n",
    "        \n",
    "    #top() method to return the last elemtn\n",
    "    def top(self):\n",
    "        return self.list[-1]\n",
    "\n",
    "    #rem() method to remove and return the last element in the list\n",
    "    def rem(self):\n",
    "        last_element = self.top()\n",
    "        self.list.pop(-1)\n",
    "        return last_element\n",
    "    \n",
    "    #empty() method to check if self.list is empty\n",
    "    def empty(self):\n",
    "        if self.list == []:\n",
    "            return True\n",
    "        else:\n",
    "            return False\n",
    "#initialize our list x\n",
    "x = MyList()\n",
    "#check .add 1, 2 and 3\n",
    "x.add(1).add(2).add(3)\n",
    "#print to check add works and at the same time check that __str__ and .prnt() work\n",
    "print(x)\n",
    "x.prnt()\n",
    "#check .rem() and print to check it worked and also return the last element\n",
    "print(x.rem())\n",
    "print(x)\n",
    "#check .top() and print to see it works\n",
    "print(x.top())\n",
    "#check .empty() and print to see it works \n",
    "print(x.empty())\n",
    "\n",
    "#empty the list to see it works when empty\n",
    "x.rem()\n",
    "x.rem()\n",
    "print(x.empty())\n",
    "\n",
    "    \n",
    "\n",
    "    "
   ]
  },
  {
   "cell_type": "code",
   "execution_count": null,
   "metadata": {},
   "outputs": [],
   "source": []
  }
 ],
 "metadata": {
  "kernelspec": {
   "name": "python3",
   "display_name": "Python 3.8.5 64-bit ('base': conda)",
   "metadata": {
    "interpreter": {
     "hash": "3e5ed0ec366b5735e695ce0018929022d93fb773cd441df4f79dbdeff3c0110e"
    }
   }
  },
  "language_info": {
   "codemirror_mode": {
    "name": "ipython",
    "version": 3
   },
   "file_extension": ".py",
   "mimetype": "text/x-python",
   "name": "python",
   "nbconvert_exporter": "python",
   "pygments_lexer": "ipython3",
   "version": "3.8.5-final"
  }
 },
 "nbformat": 4,
 "nbformat_minor": 2
}