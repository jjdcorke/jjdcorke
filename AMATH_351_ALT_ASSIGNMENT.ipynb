{
 "cells": [
  {
   "cell_type": "markdown",
   "source": [
    "# AMATH 351 Spring 2021\n",
    "## Make-Up Assignment \n",
    "1) Chebysev's equation is, \n",
    "$$(1-x^2)y''-xy'+\\lambda^2 y=0, \\ \\lambda \\in \\mathbb{R} $$ \n",
    "It, or closely related equations, arise when studying Poisson's equation in eliptical coordinates. (Although I do not believe this is where they were first discovered!)\n",
    "\n",
    "The aim of the question is to better understand how well Taylor series can be used to approximate solutions to linear second order ODEs.\n"
   ],
   "metadata": {}
  },
  {
   "cell_type": "markdown",
   "source": [
    "### a) Find the general solution using the Power Series Method. Be sure to confirm that the method is applicable"
   ],
   "metadata": {}
  },
  {
   "cell_type": "markdown",
   "source": [],
   "metadata": {}
  },
  {
   "cell_type": "markdown",
   "source": [
    "### b) Show that when $ \\lambda \\in \\mathbb{z} $, at least on of the series has only finitely many non-zero coefficients. The resulting polynomials are known as *Chebysev Polynomials*. Determine their degree. "
   ],
   "metadata": {}
  },
  {
   "cell_type": "markdown",
   "source": [],
   "metadata": {}
  },
  {
   "cell_type": "markdown",
   "source": [
    "### c) Fix $ \\lambda = \\frac{21}{2} $ and initial conditions $ y(0) = 1 \\ \\text{and} \\ y'(0) = 0$. Using a numerical differential equation solver, plot the solutions to Chebysev's equation on $(-1, 1)$. *Note*: For the remaining questions we will continue to use the same initial conditions. "
   ],
   "metadata": {}
  },
  {
   "cell_type": "code",
   "execution_count": null,
   "source": [
    "#import needed packages, we choose to use scipy's solve_IVP \n",
    "import scipy.integrate as scipyode\n",
    "import numpy as np \n",
    "\n",
    "class Chebysev:\n",
    "    __init__(self, y0, lmbda, xi, xf, h = 0.01):\n",
    "        self.y0 = y0\n",
    "        self.lambda = lmbda\n",
    "        self.xspan = (xi,xf)\n",
    "        self.x = np.arange(xi,xf,h)\n",
    "\n",
    "    def f()\n",
    "\n",
    "\n"
   ],
   "outputs": [],
   "metadata": {}
  },
  {
   "cell_type": "markdown",
   "source": [
    "### d) The true solution $y(x; \\lambda = \\frac{21}{2})$ to the previous question should be one of the two series solutions you found in part (a). Let yN(x;λ) denote the degree N polynomial you get by throwing away all the higher order terms from y(x; λ).\n",
    "\n",
    "### Consider the error $\\epsilon_{\\mathcal{N}}(x; \\lambda) = |y_{\\mathcal{N}} (x; \\lambda) − y(x; \\lambda)|$ measuring the difference between the true solution at x and the approximation obtained by truncated its series at degree N. We can get a good estimate for this quantity by substituting y(x;λ) for the numerical solution obtained in part (c). Fix an error tolerance ε = 0.00001. Numerically the following as a function of x, N(x;λ=21/2)= min {N |εN(x;λ=21/2)<ε}, N ∈Z≥0 over the interval (−1, 1)."
   ],
   "metadata": {}
  },
  {
   "cell_type": "markdown",
   "source": [
    "### e) for x=1/2 plot $\\mathcal{N}(x=1/2, \\lambda)$ for lambda in [1/2, 35/5]"
   ],
   "metadata": {}
  },
  {
   "cell_type": "markdown",
   "source": [
    "### f) Based on the previous 2 questions, what are your thoughts on using Taylor series to ap- proximate functions? If you were designing a general approximation scheme for arbitrary values of x and λ, would you choose Taylor series?"
   ],
   "metadata": {}
  }
 ],
 "metadata": {
  "orig_nbformat": 4,
  "language_info": {
   "name": "python",
   "version": "3.8.5"
  },
  "kernelspec": {
   "name": "python3",
   "display_name": "Python 3.8.5 64-bit ('base': conda)"
  },
  "interpreter": {
   "hash": "3e5ed0ec366b5735e695ce0018929022d93fb773cd441df4f79dbdeff3c0110e"
  }
 },
 "nbformat": 4,
 "nbformat_minor": 2
}