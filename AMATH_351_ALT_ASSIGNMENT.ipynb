{
 "cells": [
  {
   "cell_type": "markdown",
   "source": [
    "# AMATH 351 Spring 2021\n",
    "## Make-Up Assignment \n",
    "1) Chebysev's equation is, \n",
    "$$(1-x^2)y''-xy'+\\lambda^2 y=0, \\ \\lambda \\in \\mathbb{R} $$ \n",
    "It, or closely related equations, arise when studying Poisson's equation in eliptical coordinates. (Although I do not believe this is where they were first discovered!)\n",
    "\n",
    "The aim of the question is to better understand how well Taylor series can be used to approximate solutions to linear second order ODEs.\n"
   ],
   "metadata": {}
  },
  {
   "cell_type": "markdown",
   "source": [
    "### a) Find the general solution using the Power Series Method. Be sure to confirm that the method is applicable"
   ],
   "metadata": {}
  },
  {
   "cell_type": "markdown",
   "source": [],
   "metadata": {}
  },
  {
   "cell_type": "markdown",
   "source": [
    "### b) Show that when $ \\lambda \\in \\mathbb{z} $, at least on of the series has only finitely many non-zero coefficients. The resulting polynomials are known as *Chebysev Polynomials*. Determine their degree. "
   ],
   "metadata": {}
  },
  {
   "cell_type": "markdown",
   "source": [],
   "metadata": {}
  },
  {
   "cell_type": "markdown",
   "source": [
    "### c) Fix $ \\lambda = \\frac{21}{2} $ and initial conditions $ y(0) = 1 \\ \\text{and} \\ y'(0) = 0$. Using a numerical differential equation solver, plot the solutions to Chebysev's equation on $(-1, 1)$. *Note*: For the remaining questions we will continue to use the same initial conditions. "
   ],
   "metadata": {}
  },
  {
   "cell_type": "code",
   "execution_count": 4,
   "source": [
    "#import needed packages, we choose to use scipy's solve_IVP using the RK45 (i.e. explicit Runge Kutta method)\n",
    "import scipy.integrate as scipyode\n",
    "import numpy as np \n",
    "import matplotlib.pyplot as mpl\n",
    "\n",
    "class Chebysev:\n",
    "\n",
    "    def __init__(self, lmbda, xi, xf, y0 = (1,0), h = 0.01):\n",
    "\n",
    "        self.y0 = y0\n",
    "        self.lmbda = lmbda\n",
    "        self.xspan = (xi,xf)\n",
    "        self.x = np.arange(xi,xf,h)\n",
    "\n",
    "    def f(self, t, y):\n",
    "        y = y[0]\n",
    "        yprime = y[1]\n",
    "        return np.array([[yprime],[-t/(1-t^2*yprime-self.lmbda**2*y)]])\n",
    "\n",
    "    def solvey(self):\n",
    "        return scipyode.solve_ivp(self.f, self.xspan, self.y0, self.x, vectorized=True)\n",
    "\n",
    "    def ploty(self):\n",
    "        mpl.plot(self.x, self.solvey()[:,1], label = \"Chebysev's Equation for {self.lambda}\")\n",
    "        mpl.show()\n",
    "chebysev = Chebysev(21/2, -1, 1)\n",
    "chebysev.ploty()\n",
    "\n",
    "\n"
   ],
   "outputs": [
    {
     "output_type": "error",
     "ename": "TypeError",
     "evalue": "unhashable type: 'numpy.ndarray'",
     "traceback": [
      "\u001b[0;31m---------------------------------------------------------------------------\u001b[0m",
      "\u001b[0;31mTypeError\u001b[0m                                 Traceback (most recent call last)",
      "\u001b[0;32m<ipython-input-4-b591b0ce6999>\u001b[0m in \u001b[0;36m<module>\u001b[0;34m\u001b[0m\n\u001b[1;32m     25\u001b[0m         \u001b[0mmpl\u001b[0m\u001b[0;34m.\u001b[0m\u001b[0mshow\u001b[0m\u001b[0;34m(\u001b[0m\u001b[0;34m)\u001b[0m\u001b[0;34m\u001b[0m\u001b[0;34m\u001b[0m\u001b[0m\n\u001b[1;32m     26\u001b[0m \u001b[0mchebysev\u001b[0m \u001b[0;34m=\u001b[0m \u001b[0mChebysev\u001b[0m\u001b[0;34m(\u001b[0m\u001b[0;36m21\u001b[0m\u001b[0;34m/\u001b[0m\u001b[0;36m2\u001b[0m\u001b[0;34m,\u001b[0m \u001b[0;34m-\u001b[0m\u001b[0;36m1\u001b[0m\u001b[0;34m,\u001b[0m \u001b[0;36m1\u001b[0m\u001b[0;34m)\u001b[0m\u001b[0;34m\u001b[0m\u001b[0;34m\u001b[0m\u001b[0m\n\u001b[0;32m---> 27\u001b[0;31m \u001b[0mchebysev\u001b[0m\u001b[0;34m.\u001b[0m\u001b[0mploty\u001b[0m\u001b[0;34m(\u001b[0m\u001b[0;34m)\u001b[0m\u001b[0;34m\u001b[0m\u001b[0;34m\u001b[0m\u001b[0m\n\u001b[0m\u001b[1;32m     28\u001b[0m \u001b[0;34m\u001b[0m\u001b[0m\n\u001b[1;32m     29\u001b[0m \u001b[0;34m\u001b[0m\u001b[0m\n",
      "\u001b[0;32m<ipython-input-4-b591b0ce6999>\u001b[0m in \u001b[0;36mploty\u001b[0;34m(self)\u001b[0m\n\u001b[1;32m     22\u001b[0m \u001b[0;34m\u001b[0m\u001b[0m\n\u001b[1;32m     23\u001b[0m     \u001b[0;32mdef\u001b[0m \u001b[0mploty\u001b[0m\u001b[0;34m(\u001b[0m\u001b[0mself\u001b[0m\u001b[0;34m)\u001b[0m\u001b[0;34m:\u001b[0m\u001b[0;34m\u001b[0m\u001b[0;34m\u001b[0m\u001b[0m\n\u001b[0;32m---> 24\u001b[0;31m         \u001b[0mmpl\u001b[0m\u001b[0;34m.\u001b[0m\u001b[0mplot\u001b[0m\u001b[0;34m(\u001b[0m\u001b[0mself\u001b[0m\u001b[0;34m.\u001b[0m\u001b[0mx\u001b[0m\u001b[0;34m,\u001b[0m \u001b[0mself\u001b[0m\u001b[0;34m.\u001b[0m\u001b[0msolvey\u001b[0m\u001b[0;34m(\u001b[0m\u001b[0;34m)\u001b[0m\u001b[0;34m[\u001b[0m\u001b[0;34m:\u001b[0m\u001b[0;34m,\u001b[0m\u001b[0;36m1\u001b[0m\u001b[0;34m]\u001b[0m\u001b[0;34m,\u001b[0m \u001b[0mlabel\u001b[0m \u001b[0;34m=\u001b[0m \u001b[0;34m\"Chebysev's Equation for {self.lambda}\"\u001b[0m\u001b[0;34m)\u001b[0m\u001b[0;34m\u001b[0m\u001b[0;34m\u001b[0m\u001b[0m\n\u001b[0m\u001b[1;32m     25\u001b[0m         \u001b[0mmpl\u001b[0m\u001b[0;34m.\u001b[0m\u001b[0mshow\u001b[0m\u001b[0;34m(\u001b[0m\u001b[0;34m)\u001b[0m\u001b[0;34m\u001b[0m\u001b[0;34m\u001b[0m\u001b[0m\n\u001b[1;32m     26\u001b[0m \u001b[0mchebysev\u001b[0m \u001b[0;34m=\u001b[0m \u001b[0mChebysev\u001b[0m\u001b[0;34m(\u001b[0m\u001b[0;36m21\u001b[0m\u001b[0;34m/\u001b[0m\u001b[0;36m2\u001b[0m\u001b[0;34m,\u001b[0m \u001b[0;34m-\u001b[0m\u001b[0;36m1\u001b[0m\u001b[0;34m,\u001b[0m \u001b[0;36m1\u001b[0m\u001b[0;34m)\u001b[0m\u001b[0;34m\u001b[0m\u001b[0;34m\u001b[0m\u001b[0m\n",
      "\u001b[0;32m<ipython-input-4-b591b0ce6999>\u001b[0m in \u001b[0;36msolvey\u001b[0;34m(self)\u001b[0m\n\u001b[1;32m     19\u001b[0m \u001b[0;34m\u001b[0m\u001b[0m\n\u001b[1;32m     20\u001b[0m     \u001b[0;32mdef\u001b[0m \u001b[0msolvey\u001b[0m\u001b[0;34m(\u001b[0m\u001b[0mself\u001b[0m\u001b[0;34m)\u001b[0m\u001b[0;34m:\u001b[0m\u001b[0;34m\u001b[0m\u001b[0;34m\u001b[0m\u001b[0m\n\u001b[0;32m---> 21\u001b[0;31m         \u001b[0;32mreturn\u001b[0m \u001b[0mscipyode\u001b[0m\u001b[0;34m.\u001b[0m\u001b[0msolve_ivp\u001b[0m\u001b[0;34m(\u001b[0m\u001b[0mself\u001b[0m\u001b[0;34m.\u001b[0m\u001b[0mf\u001b[0m\u001b[0;34m,\u001b[0m \u001b[0mself\u001b[0m\u001b[0;34m.\u001b[0m\u001b[0mxspan\u001b[0m\u001b[0;34m,\u001b[0m \u001b[0mself\u001b[0m\u001b[0;34m.\u001b[0m\u001b[0my0\u001b[0m\u001b[0;34m,\u001b[0m \u001b[0mself\u001b[0m\u001b[0;34m.\u001b[0m\u001b[0mx\u001b[0m\u001b[0;34m,\u001b[0m \u001b[0mvectorized\u001b[0m\u001b[0;34m=\u001b[0m\u001b[0;32mTrue\u001b[0m\u001b[0;34m)\u001b[0m\u001b[0;34m\u001b[0m\u001b[0;34m\u001b[0m\u001b[0m\n\u001b[0m\u001b[1;32m     22\u001b[0m \u001b[0;34m\u001b[0m\u001b[0m\n\u001b[1;32m     23\u001b[0m     \u001b[0;32mdef\u001b[0m \u001b[0mploty\u001b[0m\u001b[0;34m(\u001b[0m\u001b[0mself\u001b[0m\u001b[0;34m)\u001b[0m\u001b[0;34m:\u001b[0m\u001b[0;34m\u001b[0m\u001b[0;34m\u001b[0m\u001b[0m\n",
      "\u001b[0;32m~/opt/anaconda3/lib/python3.8/site-packages/scipy/integrate/_ivp/ivp.py\u001b[0m in \u001b[0;36msolve_ivp\u001b[0;34m(fun, t_span, y0, method, t_eval, dense_output, events, vectorized, args, **options)\u001b[0m\n\u001b[1;32m    501\u001b[0m \u001b[0;34m\u001b[0m\u001b[0m\n\u001b[1;32m    502\u001b[0m     \"\"\"\n\u001b[0;32m--> 503\u001b[0;31m     if method not in METHODS and not (\n\u001b[0m\u001b[1;32m    504\u001b[0m             inspect.isclass(method) and issubclass(method, OdeSolver)):\n\u001b[1;32m    505\u001b[0m         raise ValueError(\"`method` must be one of {} or OdeSolver class.\"\n",
      "\u001b[0;31mTypeError\u001b[0m: unhashable type: 'numpy.ndarray'"
     ]
    }
   ],
   "metadata": {}
  },
  {
   "cell_type": "code",
   "execution_count": null,
   "source": [],
   "outputs": [],
   "metadata": {}
  },
  {
   "cell_type": "markdown",
   "source": [
    "### d) The true solution $y(x; \\lambda = \\frac{21}{2})$ to the previous question should be one of the two series solutions you found in part (a). Let yN(x;λ) denote the degree N polynomial you get by throwing away all the higher order terms from y(x; λ).\n",
    "\n",
    "### Consider the error $\\epsilon_{\\mathcal{N}}(x; \\lambda) = |y_{\\mathcal{N}} (x; \\lambda) − y(x; \\lambda)|$ measuring the difference between the true solution at x and the approximation obtained by truncated its series at degree N. We can get a good estimate for this quantity by substituting y(x;λ) for the numerical solution obtained in part (c). Fix an error tolerance ε = 0.00001. Numerically the following as a function of x, N(x;λ=21/2)= min {N |εN(x;λ=21/2)<ε}, N ∈Z≥0 over the interval (−1, 1)."
   ],
   "metadata": {}
  },
  {
   "cell_type": "markdown",
   "source": [
    "### e) for x=1/2 plot $\\mathcal{N}(x=1/2, \\lambda)$ for lambda in [1/2, 35/5]"
   ],
   "metadata": {}
  },
  {
   "cell_type": "markdown",
   "source": [
    "### f) Based on the previous 2 questions, what are your thoughts on using Taylor series to ap- proximate functions? If you were designing a general approximation scheme for arbitrary values of x and λ, would you choose Taylor series?"
   ],
   "metadata": {}
  }
 ],
 "metadata": {
  "orig_nbformat": 4,
  "language_info": {
   "name": "python",
   "version": "3.8.5",
   "mimetype": "text/x-python",
   "codemirror_mode": {
    "name": "ipython",
    "version": 3
   },
   "pygments_lexer": "ipython3",
   "nbconvert_exporter": "python",
   "file_extension": ".py"
  },
  "kernelspec": {
   "name": "python3",
   "display_name": "Python 3.8.5 64-bit ('base': conda)"
  },
  "interpreter": {
   "hash": "3e5ed0ec366b5735e695ce0018929022d93fb773cd441df4f79dbdeff3c0110e"
  }
 },
 "nbformat": 4,
 "nbformat_minor": 2
}